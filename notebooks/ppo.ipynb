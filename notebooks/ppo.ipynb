{
 "cells": [
  {
   "cell_type": "code",
   "execution_count": null,
   "metadata": {},
   "outputs": [],
   "source": [
    "import torch\n",
    "import torch.nn as nn\n",
    "import torch.nn.functional as F\n",
    "import torch.optim as optim\n",
    "\n",
    "import numpy as np\n",
    "\n",
    "from cpscheduler.algorithms.ppo import PPO"
   ]
  },
  {
   "cell_type": "code",
   "execution_count": null,
   "metadata": {},
   "outputs": [],
   "source": [
    "import gymnasium as gym\n",
    "\n",
    "fn = lambda : gym.make('MountainCar-v0')\n",
    "\n",
    "obs_shape = (2,)\n",
    "action_shape = ()\n",
    "\n",
    "def layer_init(layer, std=np.sqrt(2), bias_const=0.0):\n",
    "    torch.nn.init.orthogonal_(layer.weight, std)\n",
    "    torch.nn.init.constant_(layer.bias, bias_const)\n",
    "    return layer\n",
    "\n",
    "agent = nn.Sequential(\n",
    "    layer_init(nn.Linear(2, 64)),\n",
    "    nn.Tanh(),\n",
    "    layer_init(nn.Linear(64, 64)),\n",
    "    nn.Tanh(),\n",
    "    layer_init(nn.Linear(64, 3))\n",
    ")\n",
    "\n",
    "value = nn.Sequential(\n",
    "    layer_init(nn.Linear(2, 64)),\n",
    "    nn.Tanh(),\n",
    "    layer_init(nn.Linear(64, 64)),\n",
    "    nn.Tanh(),\n",
    "    layer_init(nn.Linear(64, 1)),\n",
    ")\n",
    "\n",
    "optimizer = optim.Adam([\n",
    "    {'params': agent.parameters()},\n",
    "    {'params': value.parameters()}\n",
    "], lr=1e-4)\n",
    "\n",
    "\n",
    "\n",
    "ppo = PPO(agent, value, optimizer, fn, obs_shape, action_shape,\n",
    "          clip_value=False)\n",
    "ppo.learn(\n",
    "    num_updates=500000//512,\n",
    "    steps_per_update=4,\n",
    "    batch_size=128\n",
    ")"
   ]
  }
 ],
 "metadata": {
  "kernelspec": {
   "display_name": "scheduling",
   "language": "python",
   "name": "python3"
  },
  "language_info": {
   "name": "python",
   "version": "3.11.10"
  }
 },
 "nbformat": 4,
 "nbformat_minor": 2
}
