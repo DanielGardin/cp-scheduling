{
 "cells": [
  {
   "cell_type": "code",
   "execution_count": 9,
   "metadata": {},
   "outputs": [],
   "source": [
    "from typing import Any, Optional, Callable\n",
    "from numpy.typing import ArrayLike, NDArray\n",
    "from pandas import DataFrame\n",
    "\n",
    "import numpy as np\n",
    "import random\n",
    "\n",
    "from cpscheduler.common_envs import JobShopEnv, make_env, register_env\n",
    "from cpscheduler.environment import WeightedCompletionTime, SchedulingCPEnv, PrecedenceConstraint, NonOverlapConstraint, Env\n",
    "from cpscheduler.policies.heuristics import ShortestProcessingTime, WeightedShortestProcessingTime\n",
    "\n",
    "from cpscheduler.environment.instances import generate_taillard_instance\n",
    "from cpscheduler.utils import dataframe_to_structured"
   ]
  },
  {
   "cell_type": "markdown",
   "metadata": {},
   "source": [
    "# Generate Customer-based Scheduling Dataset\n",
    "\n",
    "The customer-based Scheduling Dataset is a collection of JobShop instances with an additional feature for each job, linking every job to a given customer. Customers may seen as the ones who ordered the job, or any other characteristic that may affect a given priority for the job to be completed. We assume the job's customer is drawn from a categorical distribution of a finite pool of possible customers, with different oracle priority values, related to the probability of such customer to contract.\n",
    "\n",
    "We first suppose these probabilities and priorities do not change over time, however this may sound unrealistic, the priority of a job is not fully determined by the customer priority, and can change in various unpredictable ways. We model this uncertainty by addressing a customer uncertainty to the priority, the job priority is then sampled from this distribution and revealed to the online policy, which takes decision with the sampled priority, which will be further unknown."
   ]
  },
  {
   "cell_type": "code",
   "execution_count": 2,
   "metadata": {},
   "outputs": [],
   "source": [
    "n_customers = 100\n",
    "\n",
    "# Generate random data\n",
    "rng = np.random.default_rng(seed=0)\n",
    "\n",
    "desired_prob_variance = 1e-7\n",
    "alpha = (n_customers**2 * desired_prob_variance + n_customers - 1)/(n_customers**3 * desired_prob_variance)\n",
    "costumer_probabilities = rng.dirichlet(alpha* np.ones(n_customers))\n",
    "\n",
    "oracle_priorities  = costumer_probabilities * n_customers * rng.uniform(0.66, 1.5, n_customers)\n",
    "costumer_uncertainty = rng.uniform(0, oracle_priorities * 0.05)\n",
    "\n",
    "def sample_priorities(seed: Optional[int] = None) -> NDArray[np.float32]:\n",
    "    rng = np.random.default_rng(seed)\n",
    "\n",
    "    return rng.normal(oracle_priorities, costumer_uncertainty).astype(np.float32)"
   ]
  },
  {
   "cell_type": "code",
   "execution_count": 3,
   "metadata": {},
   "outputs": [],
   "source": [
    "class CustomerJobShopEnv(SchedulingCPEnv):\n",
    "    def __init__(\n",
    "            self,\n",
    "            instance: DataFrame,\n",
    "            duration: str | NDArray[np.int32] = 'processing_time',\n",
    "            customer_weights: NDArray[np.float32] = np.ones(n_customers, dtype=np.float32),\n",
    "            job_feature: str = 'job',\n",
    "            customer_feature: str = 'customer',\n",
    "            operation_feature: str = 'operation',\n",
    "            machine_feature: str = 'machine'\n",
    "        ) -> None:\n",
    "        super().__init__(instance, duration)\n",
    "        self.add_constraint(\n",
    "            PrecedenceConstraint.jobshop_precedence(self.tasks, job_feature, operation_feature)\n",
    "        )\n",
    "\n",
    "        self.add_constraint(\n",
    "            NonOverlapConstraint.jobshop_non_overlap(self.tasks, machine_feature)\n",
    "        )\n",
    "\n",
    "        n_jobs = len(np.unique(self.tasks[job_feature]))\n",
    "\n",
    "        weights = np.zeros(n_jobs, dtype=np.float32)\n",
    "        weights[self.tasks[job_feature]] = customer_weights[self.tasks[customer_feature]]\n",
    "\n",
    "        self.set_objective(\n",
    "            WeightedCompletionTime(self.tasks, job_feature, weights)\n",
    "        )\n",
    "\n",
    "    def render(self) -> None:\n",
    "        return self.render_gantt(\n",
    "            'machine',\n",
    "            'job',\n",
    "        )\n",
    "\n",
    "register_env(CustomerJobShopEnv, 'customer_jobshop')"
   ]
  },
  {
   "cell_type": "markdown",
   "metadata": {},
   "source": [
    "We sample random jobshop instances, with different job and operation characteristics, linked to a specific customer. Solutions are then sampled from different behavior patterns:\n",
    "- Optimal proxy: The solutions are optimal to the weigthed completion time jobshop problem, taking priority values as weights for each job.\n",
    "- Perturbed Expert solutions: Optimal solutions are perturbed by one or more of the other behavior pattern.\n",
    "- Expert trajectories: A RL algorithm is trained to optimize the weigthed completion time jobshop problem with known priorities.\n",
    "- PDR solutions: Solutions are taken from different PDR leveraging approximate job priorities.\n",
    "- Biased solutions: Solutions taken from PDRs with no or minimal dependency with the priority values.\n",
    "\n",
    "We consider the solutions, from top to bottom, as in decreasing order of trajectory quality and we build different datasets with different quality levels."
   ]
  },
  {
   "cell_type": "markdown",
   "metadata": {},
   "source": [
    "## Taillard Instances\n",
    "\n",
    "Taillard instances were originally proposed to the makespan jobshop scheduling problem, usually used for benchmarking algorithms due to instances with existing solutions that can be compared across different strategies. It is a simple static scenario with deterministic processing times, and no uncertainty"
   ]
  },
  {
   "cell_type": "code",
   "execution_count": 4,
   "metadata": {},
   "outputs": [],
   "source": [
    "def generate_customers_taillard(\n",
    "    n_jobs: int,\n",
    "    n_machines: int,\n",
    "    customers_probabilities: NDArray[np.float64],\n",
    "    seed: Optional[int] = None\n",
    ") -> tuple[DataFrame, dict[str, Any]]:\n",
    "    rng = np.random.default_rng(seed=seed)\n",
    "\n",
    "    instance, metadata = generate_taillard_instance(n_jobs, n_machines, seed=seed)\n",
    "\n",
    "    costumers = rng.choice(n_customers, n_jobs, p=customers_probabilities)\n",
    "\n",
    "    instance[\"customer\"] = costumers[instance[\"job\"]]\n",
    "\n",
    "    return instance, metadata"
   ]
  },
  {
   "cell_type": "code",
   "execution_count": 5,
   "metadata": {},
   "outputs": [],
   "source": [
    "n_taillard_samples = 364\n",
    "n_envs_per_priority = 7\n",
    "\n",
    "\n",
    "instances = [generate_customers_taillard(20, 5, costumer_probabilities, seed=i)[0] for i in range(364)]\n",
    "customer_weights = [\n",
    "    sample_priorities(seed=i) for i in range(n_envs_per_priority)\n",
    "]\n",
    "\n",
    "env = make_env(\n",
    "    'customer_jobshop',\n",
    "    instances,\n",
    "    'processing_time',\n",
    "    num_envs=n_taillard_samples,\n",
    "    vector_env='async',\n",
    "    auto_reset=False,\n",
    "    customer_weights=oracle_priorities\n",
    ")\n",
    "\n",
    "obss, infos = env.reset()\n",
    "\n",
    "obs = np.vstack(obss)"
   ]
  },
  {
   "cell_type": "code",
   "execution_count": 6,
   "metadata": {},
   "outputs": [],
   "source": [
    "actions = []\n",
    "\n",
    "for i in range(n_taillard_samples // n_envs_per_priority):\n",
    "    uncertain_priorities = sample_priorities()\n",
    "\n",
    "    spt = WeightedShortestProcessingTime(\n",
    "        uncertain_priorities,\n",
    "        weighted_label='customer',\n",
    "    )\n",
    "\n",
    "    actions.extend(spt(obs[i * n_envs_per_priority: (i + 1) * n_envs_per_priority]))\n",
    "\n",
    "actions = np.array(actions)\n",
    "\n",
    "_, _, _, _, infos = env.step(actions, enforce_order=False)\n",
    "\n",
    "actions = np.array(infos['solution'])"
   ]
  }
 ],
 "metadata": {
  "kernelspec": {
   "display_name": "scheduling",
   "language": "python",
   "name": "python3"
  },
  "language_info": {
   "codemirror_mode": {
    "name": "ipython",
    "version": 3
   },
   "file_extension": ".py",
   "mimetype": "text/x-python",
   "name": "python",
   "nbconvert_exporter": "python",
   "pygments_lexer": "ipython3",
   "version": "3.11.10"
  }
 },
 "nbformat": 4,
 "nbformat_minor": 2
}
